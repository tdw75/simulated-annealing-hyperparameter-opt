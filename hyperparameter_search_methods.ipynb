{
 "cells": [
  {
   "cell_type": "markdown",
   "metadata": {},
   "source": [
    "# Simulated Annealing for Hyperparameter Optimisation"
   ]
  },
  {
   "cell_type": "markdown",
   "metadata": {},
   "source": [
    "Hyperparameter optimisation is an important part of the modelling process in supervised learning. It involves searching for the combination of hyperparameters that provide the best predictive performance. As the number of possible combinations quickly becomes so large that an exhaustive search becomes infeasible, a more intelligent search method is required. \n",
    "\n",
    "One popular method is a randomised search, in which values for each hyperparameter are chosen at random and the best combination is saved. Despite being a naive approach, it works suprisingly well in practice. However, I was curious to see what other approaches could be applied to this problem.\n",
    "\n",
    "The search for optimal hyperparameters can essentially be formulated as a combinatorial optimisation problem. One particular heuristic method, which has been shown to be successful for numerous discrete optimisation problems is simulated annealing. Simulated annleaing is a metaheuristic that is inspired by the annealing process in metallurgy and as it can be easily applied to a hyperparameter search, I decided to try it out."
   ]
  },
  {
   "cell_type": "code",
   "execution_count": 1,
   "metadata": {},
   "outputs": [
    {
     "name": "stdout",
     "output_type": "stream",
     "text": [
      "C:\\Users\\user\\Documents\\git-repositories\\simulated-annealing-hyperparameter-opt\\sa_hyperopt\n"
     ]
    }
   ],
   "source": [
    "cd sa_hyperopt"
   ]
  },
  {
   "cell_type": "code",
   "execution_count": 2,
   "metadata": {},
   "outputs": [],
   "source": [
    "from sklearn.datasets import load_breast_cancer\n",
    "import pandas as pd\n",
    "import numpy as np\n",
    "from simulated_annealing import SimulatedAnnealingSearchCV\n",
    "from sklearn.ensemble import RandomForestClassifier\n",
    "from lightgbm import LGBMClassifier\n",
    "from hyperparameter_configs import get_lightgbm_parameters\n",
    "from sklearn import metrics\n",
    "from sklearn.model_selection import RandomizedSearchCV, train_test_split\n",
    "import logging\n",
    "import sys"
   ]
  },
  {
   "cell_type": "code",
   "execution_count": 3,
   "metadata": {},
   "outputs": [],
   "source": [
    "seed = 0\n",
    "np.random.seed(seed)\n",
    "logging.basicConfig(level=logging.INFO, stream=sys.stdout)"
   ]
  },
  {
   "cell_type": "markdown",
   "metadata": {},
   "source": [
    "## Load data"
   ]
  },
  {
   "cell_type": "code",
   "execution_count": 4,
   "metadata": {},
   "outputs": [],
   "source": [
    "results = load_breast_cancer()\n",
    "X = pd.DataFrame(results['data'], columns=list(results['feature_names']))\n",
    "y = pd.Series(results['target'])"
   ]
  },
  {
   "cell_type": "code",
   "execution_count": 5,
   "metadata": {},
   "outputs": [
    {
     "name": "stdout",
     "output_type": "stream",
     "text": [
      "<class 'pandas.core.frame.DataFrame'>\n",
      "RangeIndex: 569 entries, 0 to 568\n",
      "Data columns (total 30 columns):\n",
      "mean radius                569 non-null float64\n",
      "mean texture               569 non-null float64\n",
      "mean perimeter             569 non-null float64\n",
      "mean area                  569 non-null float64\n",
      "mean smoothness            569 non-null float64\n",
      "mean compactness           569 non-null float64\n",
      "mean concavity             569 non-null float64\n",
      "mean concave points        569 non-null float64\n",
      "mean symmetry              569 non-null float64\n",
      "mean fractal dimension     569 non-null float64\n",
      "radius error               569 non-null float64\n",
      "texture error              569 non-null float64\n",
      "perimeter error            569 non-null float64\n",
      "area error                 569 non-null float64\n",
      "smoothness error           569 non-null float64\n",
      "compactness error          569 non-null float64\n",
      "concavity error            569 non-null float64\n",
      "concave points error       569 non-null float64\n",
      "symmetry error             569 non-null float64\n",
      "fractal dimension error    569 non-null float64\n",
      "worst radius               569 non-null float64\n",
      "worst texture              569 non-null float64\n",
      "worst perimeter            569 non-null float64\n",
      "worst area                 569 non-null float64\n",
      "worst smoothness           569 non-null float64\n",
      "worst compactness          569 non-null float64\n",
      "worst concavity            569 non-null float64\n",
      "worst concave points       569 non-null float64\n",
      "worst symmetry             569 non-null float64\n",
      "worst fractal dimension    569 non-null float64\n",
      "dtypes: float64(30)\n",
      "memory usage: 133.5 KB\n"
     ]
    }
   ],
   "source": [
    "X.info()"
   ]
  },
  {
   "cell_type": "code",
   "execution_count": 15,
   "metadata": {},
   "outputs": [
    {
     "data": {
      "text/html": [
       "<div>\n",
       "<style scoped>\n",
       "    .dataframe tbody tr th:only-of-type {\n",
       "        vertical-align: middle;\n",
       "    }\n",
       "\n",
       "    .dataframe tbody tr th {\n",
       "        vertical-align: top;\n",
       "    }\n",
       "\n",
       "    .dataframe thead th {\n",
       "        text-align: right;\n",
       "    }\n",
       "</style>\n",
       "<table border=\"1\" class=\"dataframe\">\n",
       "  <thead>\n",
       "    <tr style=\"text-align: right;\">\n",
       "      <th></th>\n",
       "      <th>mean radius</th>\n",
       "      <th>mean texture</th>\n",
       "      <th>mean perimeter</th>\n",
       "      <th>mean area</th>\n",
       "      <th>mean smoothness</th>\n",
       "      <th>mean compactness</th>\n",
       "      <th>mean concavity</th>\n",
       "      <th>mean concave points</th>\n",
       "      <th>mean symmetry</th>\n",
       "      <th>mean fractal dimension</th>\n",
       "      <th>...</th>\n",
       "      <th>worst radius</th>\n",
       "      <th>worst texture</th>\n",
       "      <th>worst perimeter</th>\n",
       "      <th>worst area</th>\n",
       "      <th>worst smoothness</th>\n",
       "      <th>worst compactness</th>\n",
       "      <th>worst concavity</th>\n",
       "      <th>worst concave points</th>\n",
       "      <th>worst symmetry</th>\n",
       "      <th>worst fractal dimension</th>\n",
       "    </tr>\n",
       "  </thead>\n",
       "  <tbody>\n",
       "    <tr>\n",
       "      <td>0</td>\n",
       "      <td>17.99</td>\n",
       "      <td>10.38</td>\n",
       "      <td>122.80</td>\n",
       "      <td>1001.0</td>\n",
       "      <td>0.11840</td>\n",
       "      <td>0.27760</td>\n",
       "      <td>0.3001</td>\n",
       "      <td>0.14710</td>\n",
       "      <td>0.2419</td>\n",
       "      <td>0.07871</td>\n",
       "      <td>...</td>\n",
       "      <td>25.38</td>\n",
       "      <td>17.33</td>\n",
       "      <td>184.60</td>\n",
       "      <td>2019.0</td>\n",
       "      <td>0.1622</td>\n",
       "      <td>0.6656</td>\n",
       "      <td>0.7119</td>\n",
       "      <td>0.2654</td>\n",
       "      <td>0.4601</td>\n",
       "      <td>0.11890</td>\n",
       "    </tr>\n",
       "    <tr>\n",
       "      <td>1</td>\n",
       "      <td>20.57</td>\n",
       "      <td>17.77</td>\n",
       "      <td>132.90</td>\n",
       "      <td>1326.0</td>\n",
       "      <td>0.08474</td>\n",
       "      <td>0.07864</td>\n",
       "      <td>0.0869</td>\n",
       "      <td>0.07017</td>\n",
       "      <td>0.1812</td>\n",
       "      <td>0.05667</td>\n",
       "      <td>...</td>\n",
       "      <td>24.99</td>\n",
       "      <td>23.41</td>\n",
       "      <td>158.80</td>\n",
       "      <td>1956.0</td>\n",
       "      <td>0.1238</td>\n",
       "      <td>0.1866</td>\n",
       "      <td>0.2416</td>\n",
       "      <td>0.1860</td>\n",
       "      <td>0.2750</td>\n",
       "      <td>0.08902</td>\n",
       "    </tr>\n",
       "    <tr>\n",
       "      <td>2</td>\n",
       "      <td>19.69</td>\n",
       "      <td>21.25</td>\n",
       "      <td>130.00</td>\n",
       "      <td>1203.0</td>\n",
       "      <td>0.10960</td>\n",
       "      <td>0.15990</td>\n",
       "      <td>0.1974</td>\n",
       "      <td>0.12790</td>\n",
       "      <td>0.2069</td>\n",
       "      <td>0.05999</td>\n",
       "      <td>...</td>\n",
       "      <td>23.57</td>\n",
       "      <td>25.53</td>\n",
       "      <td>152.50</td>\n",
       "      <td>1709.0</td>\n",
       "      <td>0.1444</td>\n",
       "      <td>0.4245</td>\n",
       "      <td>0.4504</td>\n",
       "      <td>0.2430</td>\n",
       "      <td>0.3613</td>\n",
       "      <td>0.08758</td>\n",
       "    </tr>\n",
       "    <tr>\n",
       "      <td>3</td>\n",
       "      <td>11.42</td>\n",
       "      <td>20.38</td>\n",
       "      <td>77.58</td>\n",
       "      <td>386.1</td>\n",
       "      <td>0.14250</td>\n",
       "      <td>0.28390</td>\n",
       "      <td>0.2414</td>\n",
       "      <td>0.10520</td>\n",
       "      <td>0.2597</td>\n",
       "      <td>0.09744</td>\n",
       "      <td>...</td>\n",
       "      <td>14.91</td>\n",
       "      <td>26.50</td>\n",
       "      <td>98.87</td>\n",
       "      <td>567.7</td>\n",
       "      <td>0.2098</td>\n",
       "      <td>0.8663</td>\n",
       "      <td>0.6869</td>\n",
       "      <td>0.2575</td>\n",
       "      <td>0.6638</td>\n",
       "      <td>0.17300</td>\n",
       "    </tr>\n",
       "    <tr>\n",
       "      <td>4</td>\n",
       "      <td>20.29</td>\n",
       "      <td>14.34</td>\n",
       "      <td>135.10</td>\n",
       "      <td>1297.0</td>\n",
       "      <td>0.10030</td>\n",
       "      <td>0.13280</td>\n",
       "      <td>0.1980</td>\n",
       "      <td>0.10430</td>\n",
       "      <td>0.1809</td>\n",
       "      <td>0.05883</td>\n",
       "      <td>...</td>\n",
       "      <td>22.54</td>\n",
       "      <td>16.67</td>\n",
       "      <td>152.20</td>\n",
       "      <td>1575.0</td>\n",
       "      <td>0.1374</td>\n",
       "      <td>0.2050</td>\n",
       "      <td>0.4000</td>\n",
       "      <td>0.1625</td>\n",
       "      <td>0.2364</td>\n",
       "      <td>0.07678</td>\n",
       "    </tr>\n",
       "  </tbody>\n",
       "</table>\n",
       "<p>5 rows × 30 columns</p>\n",
       "</div>"
      ],
      "text/plain": [
       "   mean radius  mean texture  mean perimeter  mean area  mean smoothness  \\\n",
       "0        17.99         10.38          122.80     1001.0          0.11840   \n",
       "1        20.57         17.77          132.90     1326.0          0.08474   \n",
       "2        19.69         21.25          130.00     1203.0          0.10960   \n",
       "3        11.42         20.38           77.58      386.1          0.14250   \n",
       "4        20.29         14.34          135.10     1297.0          0.10030   \n",
       "\n",
       "   mean compactness  mean concavity  mean concave points  mean symmetry  \\\n",
       "0           0.27760          0.3001              0.14710         0.2419   \n",
       "1           0.07864          0.0869              0.07017         0.1812   \n",
       "2           0.15990          0.1974              0.12790         0.2069   \n",
       "3           0.28390          0.2414              0.10520         0.2597   \n",
       "4           0.13280          0.1980              0.10430         0.1809   \n",
       "\n",
       "   mean fractal dimension  ...  worst radius  worst texture  worst perimeter  \\\n",
       "0                 0.07871  ...         25.38          17.33           184.60   \n",
       "1                 0.05667  ...         24.99          23.41           158.80   \n",
       "2                 0.05999  ...         23.57          25.53           152.50   \n",
       "3                 0.09744  ...         14.91          26.50            98.87   \n",
       "4                 0.05883  ...         22.54          16.67           152.20   \n",
       "\n",
       "   worst area  worst smoothness  worst compactness  worst concavity  \\\n",
       "0      2019.0            0.1622             0.6656           0.7119   \n",
       "1      1956.0            0.1238             0.1866           0.2416   \n",
       "2      1709.0            0.1444             0.4245           0.4504   \n",
       "3       567.7            0.2098             0.8663           0.6869   \n",
       "4      1575.0            0.1374             0.2050           0.4000   \n",
       "\n",
       "   worst concave points  worst symmetry  worst fractal dimension  \n",
       "0                0.2654          0.4601                  0.11890  \n",
       "1                0.1860          0.2750                  0.08902  \n",
       "2                0.2430          0.3613                  0.08758  \n",
       "3                0.2575          0.6638                  0.17300  \n",
       "4                0.1625          0.2364                  0.07678  \n",
       "\n",
       "[5 rows x 30 columns]"
      ]
     },
     "execution_count": 15,
     "metadata": {},
     "output_type": "execute_result"
    }
   ],
   "source": [
    "X.sort_index().head()"
   ]
  },
  {
   "cell_type": "code",
   "execution_count": 7,
   "metadata": {},
   "outputs": [],
   "source": [
    "params = get_lightgbm_parameters('binary')\n",
    "gb = LGBMClassifier()\n",
    "args = {'cv': 5,\n",
    "        'scoring': 'brier_score_loss',\n",
    "        'n_jobs': -1}"
   ]
  },
  {
   "cell_type": "markdown",
   "metadata": {},
   "source": [
    "## Simulated annealing"
   ]
  },
  {
   "cell_type": "code",
   "execution_count": 8,
   "metadata": {},
   "outputs": [
    {
     "name": "stdout",
     "output_type": "stream",
     "text": [
      "maybe\n"
     ]
    }
   ],
   "source": [
    "sim = SimulatedAnnealingSearchCV(gb, param_distributions=params, seed=0, **args)"
   ]
  },
  {
   "cell_type": "code",
   "execution_count": 9,
   "metadata": {
    "scrolled": false
   },
   "outputs": [
    {
     "name": "stdout",
     "output_type": "stream",
     "text": [
      "INFO:root: Iteration 1: Local improvement from -0.0972 to -0.0881, parameters updated\n",
      "INFO:root: -> Global improvement from -0.0972 to -0.0881, parameters updated\n",
      "INFO:root: Iteration 2: Local improvement from -0.0881 to -0.0762, parameters updated\n",
      "INFO:root: -> Global improvement from -0.0881 to -0.0762, parameters updated\n",
      "INFO:root: Iteration 3: No improvement from -0.0762 to -0.0788 but parameters updated\n",
      "INFO:root: Iteration 4: No improvement from -0.0788 to -0.0837, parameters unchanged\n",
      "INFO:root: Iteration 5: Local improvement from -0.0788 to -0.0767, parameters updated\n",
      "INFO:root: Iteration 6: Local improvement from -0.0767 to -0.0732, parameters updated\n",
      "INFO:root: -> Global improvement from -0.0762 to -0.0732, parameters updated\n",
      "INFO:root: Iteration 7: No improvement from -0.0732 to -0.0741 but parameters updated\n",
      "INFO:root: Iteration 8: No improvement from -0.0741 to -0.0741, parameters unchanged\n",
      "INFO:root: Iteration 9: Local improvement from -0.0741 to -0.0237, parameters updated\n",
      "INFO:root: -> Global improvement from -0.0732 to -0.0237, parameters updated\n",
      "INFO:root: Iteration 10: No improvement from -0.0237 to -0.0363, parameters unchanged\n",
      "INFO:root: Iteration 11: Local improvement from -0.0237 to -0.0229, parameters updated\n",
      "INFO:root: -> Global improvement from -0.0237 to -0.0229, parameters updated\n",
      "INFO:root: Iteration 12: Local improvement from -0.0229 to -0.0218, parameters updated\n",
      "INFO:root: -> Global improvement from -0.0229 to -0.0218, parameters updated\n",
      "INFO:root: Iteration 13: Local improvement from -0.0218 to -0.0216, parameters updated\n",
      "INFO:root: -> Global improvement from -0.0218 to -0.0216, parameters updated\n",
      "INFO:root: Iteration 14: No improvement from -0.0216 to -0.0238 but parameters updated\n",
      "INFO:root: Iteration 15: No improvement from -0.0238 to -0.0238, parameters unchanged\n",
      "INFO:root: Iteration 16: No improvement from -0.0238 to -0.0238, parameters unchanged\n",
      "INFO:root: Iteration 17: Local improvement from -0.0238 to -0.0231, parameters updated\n",
      "INFO:root: Iteration 18: No improvement from -0.0231 to -0.0242 but parameters updated\n",
      "INFO:root: Iteration 19: Local improvement from -0.0242 to -0.0241, parameters updated\n",
      "INFO:root: Iteration 20: No improvement from -0.0241 to -0.0241, parameters unchanged\n",
      "INFO:root: Iteration 21: No improvement from -0.0241 to -0.0539, parameters unchanged\n",
      "INFO:root: Iteration 22: Local improvement from -0.0241 to -0.0241, parameters updated\n",
      "INFO:root: Iteration 23: No improvement from -0.0241 to -0.0252 but parameters updated\n",
      "INFO:root: Iteration 24: No improvement from -0.0252 to -0.0310, parameters unchanged\n",
      "INFO:root: Iteration 25: No improvement from -0.0252 to -0.0817, parameters unchanged\n",
      "INFO:root: Iteration 26: Local improvement from -0.0252 to -0.0250, parameters updated\n",
      "INFO:root: Iteration 27: No improvement from -0.0250 to -0.0250, parameters unchanged\n",
      "INFO:root: Iteration 28: No improvement from -0.0250 to -0.0817, parameters unchanged\n",
      "INFO:root: Iteration 29: Local improvement from -0.0250 to -0.0229, parameters updated\n",
      "INFO:root: Iteration 30: No improvement from -0.0229 to -0.1027, parameters unchanged\n",
      "INFO:root: Iteration 31: No improvement from -0.0229 to -0.0230 but parameters updated\n",
      "INFO:root: Iteration 32: No improvement from -0.0230 to -0.0252, parameters unchanged\n",
      "INFO:root: Iteration 33: No improvement from -0.0230 to -0.0230, parameters unchanged\n",
      "INFO:root: Iteration 34: No improvement from -0.0230 to -0.0230, parameters unchanged\n",
      "INFO:root: Iteration 35: No improvement from -0.0230 to -0.0252 but parameters updated\n",
      "INFO:root: Iteration 36: No improvement from -0.0252 to -0.0255 but parameters updated\n",
      "INFO:root: Iteration 37: No improvement from -0.0255 to -0.0255, parameters unchanged\n",
      "INFO:root: Iteration 38: Local improvement from -0.0255 to -0.0252, parameters updated\n",
      "INFO:root: Iteration 39: Local improvement from -0.0252 to -0.0250, parameters updated\n",
      "INFO:root: Iteration 40: No improvement from -0.0250 to -0.0279 but parameters updated\n",
      "INFO:root: Iteration 41: No improvement from -0.0279 to -0.0279 but parameters updated\n",
      "INFO:root: Iteration 42: No improvement from -0.0279 to -0.0279, parameters unchanged\n",
      "INFO:root: Iteration 43: No improvement from -0.0279 to -0.0968, parameters unchanged\n",
      "INFO:root: Iteration 44: No improvement from -0.0279 to -0.0968, parameters unchanged\n",
      "INFO:root: Iteration 45: No improvement from -0.0279 to -0.0279, parameters unchanged\n",
      "INFO:root: Iteration 46: No improvement from -0.0279 to -0.0279, parameters unchanged\n",
      "INFO:root: Iteration 47: Local improvement from -0.0279 to -0.0250, parameters updated\n",
      "INFO:root: Iteration 48: No improvement from -0.0250 to -0.0268, parameters unchanged\n",
      "INFO:root: Iteration 49: Local improvement from -0.0250 to -0.0237, parameters updated\n",
      "INFO:root: Iteration 50: No improvement from -0.0237 to -0.0237, parameters unchanged\n",
      "INFO:root: Iteration 51: No improvement from -0.0237 to -0.0368, parameters unchanged\n",
      "INFO:root: Iteration 52: No improvement from -0.0237 to -0.0258 but parameters updated\n",
      "INFO:root: Iteration 53: No improvement from -0.0258 to -0.2338, parameters unchanged\n",
      "INFO:root: Iteration 54: No improvement from -0.0258 to -0.0293 but parameters updated\n",
      "INFO:root: Iteration 55: Local improvement from -0.0293 to -0.0248, parameters updated\n",
      "INFO:root: Iteration 56: No improvement from -0.0248 to -0.0248, parameters unchanged\n",
      "INFO:root: Iteration 57: No improvement from -0.0248 to -0.0248, parameters unchanged\n",
      "INFO:root: Iteration 58: No improvement from -0.0248 to -0.0346, parameters unchanged\n",
      "INFO:root: Iteration 59: No improvement from -0.0248 to -0.0319 but parameters updated\n",
      "INFO:root: No global improvements in the last 46 iterations. Search restarted from best configuration so far\n",
      "INFO:root: Iteration 60: No improvement from -0.0216 to -0.0216, parameters unchanged\n",
      "INFO:root: Iteration 61: No improvement from -0.0216 to -0.0217 but parameters updated\n",
      "INFO:root: Iteration 62: No improvement from -0.0217 to -0.0217, parameters unchanged\n",
      "INFO:root: Iteration 63: No improvement from -0.0217 to -0.0371, parameters unchanged\n",
      "INFO:root: Iteration 64: No improvement from -0.0217 to -0.0217, parameters unchanged\n",
      "INFO:root: Iteration 65: Local improvement from -0.0217 to -0.0212, parameters updated\n",
      "INFO:root: -> Global improvement from -0.0216 to -0.0212, parameters updated\n",
      "INFO:root: Iteration 66: No improvement from -0.0212 to -0.0434, parameters unchanged\n",
      "INFO:root: Iteration 67: No improvement from -0.0212 to -0.0225 but parameters updated\n",
      "INFO:root: Iteration 68: No improvement from -0.0225 to -0.0245, parameters unchanged\n",
      "INFO:root: Iteration 69: No improvement from -0.0225 to -0.0229 but parameters updated\n",
      "INFO:root: Iteration 70: No improvement from -0.0229 to -0.0234 but parameters updated\n",
      "INFO:root: Iteration 71: No improvement from -0.0234 to -0.0268 but parameters updated\n",
      "INFO:root: Iteration 72: No improvement from -0.0268 to -0.0268, parameters unchanged\n",
      "INFO:root: Iteration 73: Local improvement from -0.0268 to -0.0245, parameters updated\n",
      "INFO:root: Iteration 74: No improvement from -0.0245 to -0.0274 but parameters updated\n",
      "INFO:root: Iteration 75: No improvement from -0.0274 to -0.0294 but parameters updated\n",
      "INFO:root: Iteration 76: Local improvement from -0.0294 to -0.0294, parameters updated\n",
      "INFO:root: Iteration 77: No improvement from -0.0294 to -0.0294, parameters unchanged\n",
      "INFO:root: Iteration 78: No improvement from -0.0294 to -0.0298 but parameters updated\n",
      "INFO:root: Iteration 79: No improvement from -0.0298 to -0.1157, parameters unchanged\n",
      "INFO:root: Iteration 80: No improvement from -0.0298 to -0.0307 but parameters updated\n",
      "INFO:root: Iteration 81: No improvement from -0.0307 to -0.0307, parameters unchanged\n",
      "INFO:root: Iteration 82: No improvement from -0.0307 to -0.0307, parameters unchanged\n",
      "INFO:root: Iteration 83: No improvement from -0.0307 to -0.0307, parameters unchanged\n",
      "INFO:root: Iteration 84: No improvement from -0.0307 to -0.0308 but parameters updated\n",
      "INFO:root: Iteration 85: Local improvement from -0.0308 to -0.0307, parameters updated\n",
      "INFO:root: Iteration 86: No improvement from -0.0307 to -0.0543, parameters unchanged\n",
      "INFO:root: Iteration 87: Local improvement from -0.0307 to -0.0272, parameters updated\n"
     ]
    },
    {
     "name": "stdout",
     "output_type": "stream",
     "text": [
      "INFO:root: Iteration 88: Local improvement from -0.0272 to -0.0270, parameters updated\n",
      "INFO:root: Iteration 89: No improvement from -0.0270 to -0.0273 but parameters updated\n",
      "INFO:root: Iteration 90: No improvement from -0.0273 to -0.0273, parameters unchanged\n",
      "INFO:root: Iteration 91: No improvement from -0.0273 to -0.0273, parameters unchanged\n",
      "INFO:root: Iteration 92: No improvement from -0.0273 to -0.0787, parameters unchanged\n",
      "INFO:root: Iteration 93: No improvement from -0.0273 to -0.0273, parameters unchanged\n",
      "INFO:root: Iteration 94: No improvement from -0.0273 to -0.0273, parameters unchanged\n",
      "INFO:root: Iteration 95: No improvement from -0.0273 to -0.0276 but parameters updated\n",
      "INFO:root: Iteration 96: No improvement from -0.0276 to -0.0499, parameters unchanged\n",
      "INFO:root: Iteration 97: Local improvement from -0.0276 to -0.0275, parameters updated\n",
      "INFO:root: Iteration 98: No improvement from -0.0275 to -0.0379, parameters unchanged\n",
      "INFO:root: Iteration 99: No improvement from -0.0275 to -0.0285 but parameters updated\n",
      "INFO:root: Iteration 100: Local improvement from -0.0285 to -0.0276, parameters updated\n",
      "INFO:root: Iteration 101: No improvement from -0.0276 to -0.0284 but parameters updated\n",
      "INFO:root: Iteration 102: No improvement from -0.0284 to -0.2338, parameters unchanged\n",
      "INFO:root: Iteration 103: Local improvement from -0.0284 to -0.0283, parameters updated\n",
      "INFO:root: Iteration 104: Local improvement from -0.0283 to -0.0282, parameters updated\n",
      "INFO:root: Iteration 105: No improvement from -0.0282 to -0.0284 but parameters updated\n",
      "INFO:root: Iteration 106: Local improvement from -0.0284 to -0.0279, parameters updated\n",
      "INFO:root: Iteration 107: No improvement from -0.0279 to -0.0279, parameters unchanged\n",
      "INFO:root: Iteration 108: No improvement from -0.0279 to -0.0279, parameters unchanged\n",
      "INFO:root: Iteration 109: No improvement from -0.0279 to -0.0284 but parameters updated\n",
      "INFO:root: Iteration 110: No improvement from -0.0284 to -0.0284, parameters unchanged\n",
      "INFO:root: Iteration 111: No improvement from -0.0284 to -0.0284, parameters unchanged\n",
      "INFO:root: No global improvements in the last 46 iterations. Search restarted from best configuration so far\n",
      "INFO:root: Iteration 112: No improvement from -0.0212 to -0.0212, parameters unchanged\n",
      "INFO:root: Iteration 113: No improvement from -0.0212 to -0.0236, parameters unchanged\n",
      "INFO:root: Iteration 114: No improvement from -0.0212 to -0.0266 but parameters updated\n",
      "INFO:root: Iteration 115: Local improvement from -0.0266 to -0.0264, parameters updated\n",
      "INFO:root: Iteration 116: No improvement from -0.0264 to -0.0264, parameters unchanged\n",
      "INFO:root: Iteration 117: No improvement from -0.0264 to -0.1215, parameters unchanged\n",
      "INFO:root: Iteration 118: Local improvement from -0.0264 to -0.0248, parameters updated\n",
      "INFO:root: Iteration 119: No improvement from -0.0248 to -0.0249 but parameters updated\n",
      "INFO:root: Iteration 120: Local improvement from -0.0249 to -0.0243, parameters updated\n",
      "INFO:root: Iteration 121: No improvement from -0.0243 to -0.0246 but parameters updated\n",
      "INFO:root: Iteration 122: Local improvement from -0.0246 to -0.0246, parameters updated\n",
      "INFO:root: Iteration 123: No improvement from -0.0246 to -0.0272 but parameters updated\n",
      "INFO:root: Iteration 124: No improvement from -0.0272 to -0.0341, parameters unchanged\n",
      "INFO:root: Iteration 125: Local improvement from -0.0272 to -0.0246, parameters updated\n",
      "INFO:root: Iteration 126: Local improvement from -0.0246 to -0.0246, parameters updated\n",
      "INFO:root: Iteration 127: Local improvement from -0.0246 to -0.0240, parameters updated\n",
      "INFO:root: Iteration 128: Local improvement from -0.0240 to -0.0212, parameters updated\n",
      "INFO:root: Iteration 129: No improvement from -0.0212 to -0.0225 but parameters updated\n",
      "INFO:root: Iteration 130: No improvement from -0.0225 to -0.0924, parameters unchanged\n",
      "INFO:root: Iteration 131: No improvement from -0.0225 to -0.0225, parameters unchanged\n",
      "INFO:root: Iteration 132: No improvement from -0.0225 to -0.0582, parameters unchanged\n",
      "INFO:root: Iteration 133: No improvement from -0.0225 to -0.0735, parameters unchanged\n",
      "INFO:root: Iteration 134: Local improvement from -0.0225 to -0.0219, parameters updated\n",
      "INFO:root: Iteration 135: No improvement from -0.0219 to -0.0229 but parameters updated\n",
      "INFO:root: Iteration 136: Local improvement from -0.0229 to -0.0228, parameters updated\n",
      "INFO:root: Iteration 137: Local improvement from -0.0228 to -0.0222, parameters updated\n",
      "INFO:root: Iteration 138: Local improvement from -0.0222 to -0.0222, parameters updated\n",
      "INFO:root: Iteration 139: No improvement from -0.0222 to -0.0222 but parameters updated\n",
      "INFO:root: Iteration 140: No improvement from -0.0222 to -0.0964, parameters unchanged\n",
      "INFO:root: Iteration 141: No improvement from -0.0222 to -0.0222, parameters unchanged\n",
      "INFO:root: Iteration 142: No improvement from -0.0222 to -0.0233, parameters unchanged\n",
      "INFO:root: Iteration 143: No improvement from -0.0222 to -0.0222, parameters unchanged\n",
      "INFO:root: Iteration 144: Local improvement from -0.0222 to -0.0219, parameters updated\n",
      "INFO:root: Iteration 145: No improvement from -0.0219 to -0.0219, parameters unchanged\n",
      "INFO:root: Iteration 146: No improvement from -0.0219 to -0.0237 but parameters updated\n",
      "INFO:root: Iteration 147: No improvement from -0.0237 to -0.0237, parameters unchanged\n",
      "INFO:root: Iteration 148: Local improvement from -0.0237 to -0.0222, parameters updated\n",
      "INFO:root: Iteration 149: Local improvement from -0.0222 to -0.0220, parameters updated\n",
      "INFO:root: Iteration 150: No improvement from -0.0220 to -0.0485, parameters unchanged\n",
      "INFO:root: Iteration 151: No improvement from -0.0220 to -0.0766, parameters unchanged\n",
      "INFO:root: Iteration 152: No improvement from -0.0220 to -0.0220, parameters unchanged\n",
      "INFO:root: Iteration 153: No improvement from -0.0220 to -0.0264, parameters unchanged\n",
      "INFO:root: Iteration 154: No improvement from -0.0220 to -0.0225 but parameters updated\n",
      "INFO:root: Iteration 155: No improvement from -0.0225 to -0.0240, parameters unchanged\n",
      "INFO:root: Iteration 156: Local improvement from -0.0225 to -0.0214, parameters updated\n",
      "INFO:root: Iteration 157: No improvement from -0.0214 to -0.0954, parameters unchanged\n",
      "INFO:root: Iteration 158: No improvement from -0.0214 to -0.0220 but parameters updated\n",
      "INFO:root: No global improvements in the last 46 iterations. Search restarted from best configuration so far\n",
      "INFO:root: Iteration 159: No improvement from -0.0212 to -0.0316, parameters unchanged\n",
      "INFO:root: Iteration 160: No improvement from -0.0212 to -0.0220 but parameters updated\n",
      "INFO:root: Iteration 161: No improvement from -0.0220 to -0.0246 but parameters updated\n",
      "INFO:root: Iteration 162: No improvement from -0.0246 to -0.0246, parameters unchanged\n",
      "INFO:root: Iteration 163: Local improvement from -0.0246 to -0.0238, parameters updated\n",
      "INFO:root: Iteration 164: No improvement from -0.0238 to -0.0247 but parameters updated\n",
      "INFO:root: Iteration 165: No improvement from -0.0247 to -0.0272 but parameters updated\n",
      "INFO:root: Iteration 166: Local improvement from -0.0272 to -0.0271, parameters updated\n",
      "INFO:root: Iteration 167: No improvement from -0.0271 to -0.0271, parameters unchanged\n",
      "INFO:root: Iteration 168: No improvement from -0.0271 to -0.0380, parameters unchanged\n",
      "INFO:root: Iteration 169: No improvement from -0.0271 to -0.0279 but parameters updated\n",
      "INFO:root: Iteration 170: Local improvement from -0.0279 to -0.0273, parameters updated\n",
      "INFO:root: Iteration 171: No improvement from -0.0273 to -0.0273, parameters unchanged\n",
      "INFO:root: Iteration 172: No improvement from -0.0273 to -0.1132, parameters unchanged\n",
      "INFO:root: Iteration 173: No improvement from -0.0273 to -0.0273, parameters unchanged\n",
      "INFO:root: Iteration 174: No improvement from -0.0273 to -0.0273, parameters unchanged\n",
      "INFO:root: Iteration 175: No improvement from -0.0273 to -0.0279 but parameters updated\n",
      "INFO:root: Iteration 176: No improvement from -0.0279 to -0.0279, parameters unchanged\n",
      "INFO:root: Iteration 177: No improvement from -0.0279 to -0.0434, parameters unchanged\n",
      "INFO:root: Iteration 178: No improvement from -0.0279 to -0.0434, parameters unchanged\n",
      "INFO:root: Iteration 179: Local improvement from -0.0279 to -0.0274, parameters updated\n"
     ]
    },
    {
     "name": "stdout",
     "output_type": "stream",
     "text": [
      "INFO:root: Iteration 180: No improvement from -0.0274 to -0.2338, parameters unchanged\n",
      "INFO:root: Iteration 181: No improvement from -0.0274 to -0.0344, parameters unchanged\n",
      "INFO:root: Iteration 182: No improvement from -0.0274 to -0.0274 but parameters updated\n",
      "INFO:root: Iteration 183: No improvement from -0.0274 to -0.0434, parameters unchanged\n",
      "INFO:root: Iteration 184: No improvement from -0.0274 to -0.0274, parameters unchanged\n",
      "INFO:root: Iteration 185: Local improvement from -0.0274 to -0.0262, parameters updated\n",
      "INFO:root: Iteration 186: No improvement from -0.0262 to -0.0963, parameters unchanged\n",
      "INFO:root: Iteration 187: No improvement from -0.0262 to -0.0296, parameters unchanged\n",
      "INFO:root: Iteration 188: No improvement from -0.0262 to -0.0265 but parameters updated\n",
      "INFO:root: Iteration 189: No improvement from -0.0265 to -0.0265, parameters unchanged\n",
      "INFO:root: Iteration 190: No improvement from -0.0265 to -0.0265, parameters unchanged\n",
      "INFO:root: Iteration 191: Local improvement from -0.0265 to -0.0265, parameters updated\n",
      "INFO:root: Iteration 192: Local improvement from -0.0265 to -0.0222, parameters updated\n",
      "INFO:root: Iteration 193: Local improvement from -0.0222 to -0.0216, parameters updated\n",
      "INFO:root: Iteration 194: No improvement from -0.0216 to -0.0216, parameters unchanged\n",
      "INFO:root: Iteration 195: No improvement from -0.0216 to -0.0274, parameters unchanged\n",
      "INFO:root: Iteration 196: No improvement from -0.0216 to -0.0216, parameters unchanged\n",
      "INFO:root: Iteration 197: Local improvement from -0.0216 to -0.0216, parameters updated\n",
      "INFO:root: Iteration 198: Local improvement from -0.0216 to -0.0193, parameters updated\n",
      "INFO:root: -> Global improvement from -0.0212 to -0.0193, parameters updated\n",
      "INFO:root: Iteration 199: No improvement from -0.0193 to -0.0193, parameters unchanged\n",
      "INFO:root: Iteration 200: No improvement from -0.0193 to -0.0212 but parameters updated\n",
      "INFO:root: Iteration 201: Local improvement from -0.0212 to -0.0193, parameters updated\n",
      "INFO:root: Iteration 202: No improvement from -0.0193 to -0.0285, parameters unchanged\n",
      "INFO:root: Iteration 203: No improvement from -0.0193 to -0.0234, parameters unchanged\n",
      "INFO:root: Iteration 204: No improvement from -0.0193 to -0.0193, parameters unchanged\n",
      "INFO:root: Iteration 205: No improvement from -0.0193 to -0.0213 but parameters updated\n",
      "INFO:root: Iteration 206: Local improvement from -0.0213 to -0.0206, parameters updated\n",
      "INFO:root: Iteration 207: No improvement from -0.0206 to -0.0239, parameters unchanged\n",
      "INFO:root: Iteration 208: Local improvement from -0.0206 to -0.0200, parameters updated\n",
      "INFO:root: Iteration 209: No improvement from -0.0200 to -0.0589, parameters unchanged\n",
      "INFO:root: Iteration 210: No improvement from -0.0200 to -0.0205 but parameters updated\n",
      "INFO:root: Iteration 211: No improvement from -0.0205 to -0.0745, parameters unchanged\n",
      "INFO:root: Iteration 212: No improvement from -0.0205 to -0.0207 but parameters updated\n",
      "INFO:root: Iteration 213: No improvement from -0.0207 to -0.0764, parameters unchanged\n",
      "INFO:root: Iteration 214: No improvement from -0.0207 to -0.0466, parameters unchanged\n",
      "INFO:root: Iteration 215: No improvement from -0.0207 to -0.0207, parameters unchanged\n",
      "INFO:root: Iteration 216: No improvement from -0.0207 to -0.0253, parameters unchanged\n",
      "INFO:root: Iteration 217: Local improvement from -0.0207 to -0.0182, parameters updated\n",
      "INFO:root: -> Global improvement from -0.0193 to -0.0182, parameters updated\n",
      "INFO:root: Iteration 218: No improvement from -0.0182 to -0.0221, parameters unchanged\n",
      "INFO:root: Iteration 219: No improvement from -0.0182 to -0.0226, parameters unchanged\n",
      "INFO:root: Iteration 220: No improvement from -0.0182 to -0.0222, parameters unchanged\n",
      "INFO:root: Iteration 221: No improvement from -0.0182 to -0.0234, parameters unchanged\n",
      "INFO:root: Iteration 222: No improvement from -0.0182 to -0.0182, parameters unchanged\n",
      "INFO:root: Iteration 223: No improvement from -0.0182 to -0.0214, parameters unchanged\n",
      "INFO:root: Iteration 224: No improvement from -0.0182 to -0.0458, parameters unchanged\n",
      "INFO:root: Iteration 225: No improvement from -0.0182 to -0.0182, parameters unchanged\n",
      "INFO:root: Iteration 226: No improvement from -0.0182 to -0.0199, parameters unchanged\n",
      "INFO:root: Iteration 227: No improvement from -0.0182 to -0.0214, parameters unchanged\n",
      "INFO:root: Iteration 228: No improvement from -0.0182 to -0.0238, parameters unchanged\n",
      "INFO:root: Iteration 229: No improvement from -0.0182 to -0.0182, parameters unchanged\n",
      "INFO:root: Iteration 230: No improvement from -0.0182 to -0.0209, parameters unchanged\n",
      "INFO:root: Best score found was 0.0182\n",
      "Wall time: 1min 6s\n"
     ]
    }
   ],
   "source": [
    "%%time\n",
    "sim.fit(X, y, initial_temperature=10)"
   ]
  },
  {
   "cell_type": "code",
   "execution_count": 10,
   "metadata": {},
   "outputs": [
    {
     "name": "stdout",
     "output_type": "stream",
     "text": [
      "0.0182\n"
     ]
    }
   ],
   "source": [
    "print('{:.4f}'.format(-sim.best_score_))"
   ]
  },
  {
   "cell_type": "markdown",
   "metadata": {},
   "source": [
    "## Randomised search"
   ]
  },
  {
   "cell_type": "code",
   "execution_count": 11,
   "metadata": {},
   "outputs": [],
   "source": [
    "randcv = RandomizedSearchCV(gb, param_distributions=params, n_iter=230, **args)"
   ]
  },
  {
   "cell_type": "code",
   "execution_count": 12,
   "metadata": {},
   "outputs": [
    {
     "name": "stdout",
     "output_type": "stream",
     "text": [
      "Wall time: 19.4 s\n"
     ]
    },
    {
     "name": "stderr",
     "output_type": "stream",
     "text": [
      "C:\\ProgramData\\Anaconda3\\lib\\site-packages\\sklearn\\model_selection\\_search.py:814: DeprecationWarning: The default of the `iid` parameter will change from True to False in version 0.22 and will be removed in 0.24. This will change numeric results when test-set sizes are unequal.\n",
      "  DeprecationWarning)\n"
     ]
    }
   ],
   "source": [
    "%%time\n",
    "randcv_fit = randcv.fit(X, y)"
   ]
  },
  {
   "cell_type": "code",
   "execution_count": 13,
   "metadata": {},
   "outputs": [
    {
     "name": "stdout",
     "output_type": "stream",
     "text": [
      "0.0213\n"
     ]
    }
   ],
   "source": [
    "print('{:.4f}'.format(-randcv_fit.best_score_))"
   ]
  },
  {
   "cell_type": "markdown",
   "metadata": {},
   "source": [
    "## Results"
   ]
  },
  {
   "cell_type": "raw",
   "metadata": {},
   "source": [
    "Both approaches performed extremely well during cross validation, achieving a very low Brier score. The results show that simulated annealing actually outperformed the randomised search for this data set! \n",
    "\n",
    "There are a few caveats however. The first is the running time. The simulated annealing algorithm took about three times as long as the randomised search. This isn't too much of a problem here given the small size of the data set but it could become an issue with a larger amount of data. The second is that simulated annealing even has its own hyperparameters to be set - the initial temperature and the cooling rate. While these aren't too difficult to tune it could increase the amount of time needed to run the algorithm even further.\n",
    "\n",
    "Despite this, the results are extremely promising and I'm sure that other combinatorial optimisation algorithms could also be interesting candidates for hyperparameter"
   ]
  },
  {
   "cell_type": "code",
   "execution_count": 14,
   "metadata": {},
   "outputs": [
    {
     "name": "stdout",
     "output_type": "stream",
     "text": [
      "Best score found with simulated annealing = 0.0182\n",
      "Best score found with randomised search = 0.0213\n"
     ]
    }
   ],
   "source": [
    "print('Best score found with simulated annealing = {:.4f}'.format(-sim.best_score_))\n",
    "print('Best score found with randomised search = {:.4f}'.format(-randcv_fit.best_score_))"
   ]
  }
 ],
 "metadata": {
  "kernelspec": {
   "display_name": "Python 3",
   "language": "python",
   "name": "python3"
  },
  "language_info": {
   "codemirror_mode": {
    "name": "ipython",
    "version": 3
   },
   "file_extension": ".py",
   "mimetype": "text/x-python",
   "name": "python",
   "nbconvert_exporter": "python",
   "pygments_lexer": "ipython3",
   "version": "3.7.3"
  }
 },
 "nbformat": 4,
 "nbformat_minor": 2
}
